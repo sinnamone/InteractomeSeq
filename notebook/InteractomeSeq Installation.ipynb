{
 "cells": [
  {
   "cell_type": "markdown",
   "metadata": {},
   "source": [
    "# InteractomSeq"
   ]
  },
  {
   "cell_type": "markdown",
   "metadata": {},
   "source": [
    "### A web server for the identification and profiling of domains and epitopes from Phage Display and Next Generation Sequencing data."
   ]
  },
  {
   "cell_type": "markdown",
   "metadata": {},
   "source": [
    "InteractomeSeq: a web server for the identification and profiling of domains and epitopes from Phage Display and Next Generation Sequencing data. InteractomeSeq is a webtool allowing either genomic or single gene domainome analysis of phage libraries generated and selected by following the interactome-sequencing approach.\n",
    "\n",
    "InteractomeSeq data analysis workflow is composed of four sequential steps that, starting from raw sequencing reads, generate the list of putative domains with genomic annotations. In the first step, InteractomeSeq checks if the input files (raw reads, reference genome sequence, annotation list) are properly formatted. In the second step low-quality sequencing data are first trimmed and then discarded basing on minimal length requirements. In the third step, the remaining reads are aligned to the reference genome, a SAM file is generated and only reads with high quality score are processed and converted into a BAM file. After alignment, InteractomeSeq performs the step for domains detection and generates a list of CDS portions classified as putative domains/epitopes, the list is ranked taking in consideration the focus which is an index obtained from the ratio between maximal depth and coverage of a specific genic portion."
   ]
  },
  {
   "cell_type": "markdown",
   "metadata": {},
   "source": [
    "# 1)  Installation "
   ]
  },
  {
   "cell_type": "markdown",
   "metadata": {},
   "source": [
    "With this steps below users can mirror the excecution of the webserver https://interactomeseq.ba.itb.cnr.it/ in order to perform analysis from command line. "
   ]
  },
  {
   "cell_type": "markdown",
   "metadata": {},
   "source": [
    "### Install Miniconda"
   ]
  },
  {
   "cell_type": "markdown",
   "metadata": {},
   "source": [
    "Miniconda is a Python distribution, package manager, and virtual environment solution. While QIIME 1 is Python 2 software, we recommend installing Miniconda with Python 3 (miniconda3), as many bioinformatics packages are now transitioning to Python 3. You can still install Python 2 software with miniconda3 by passing the python=2.7 flag when you create a new environment; otherwise the default Python version will be Python 3.\n",
    "\n",
    "Begin by downloading Miniconda and following the associated installation instructions.\n",
    "\n",
    "https://docs.conda.io/en/latest/miniconda.html"
   ]
  },
  {
   "cell_type": "markdown",
   "metadata": {},
   "source": [
    "### Create your InteractomeSeq environment and install the dependences"
   ]
  },
  {
   "cell_type": "markdown",
   "metadata": {},
   "source": [
    "InteractomeSeq consists of native Python 2.7 code and additionally wraps many external applications. These instructions describe how to perform a base installation of QIIME using Miniconda."
   ]
  },
  {
   "cell_type": "markdown",
   "metadata": {},
   "source": [
    "Test if miniconda is installed"
   ]
  },
  {
   "cell_type": "code",
   "execution_count": 1,
   "metadata": {},
   "outputs": [
    {
     "name": "stdout",
     "output_type": "stream",
     "text": [
      "/home/spuccio/miniconda3/condabin/conda\n"
     ]
    }
   ],
   "source": [
    "which conda"
   ]
  },
  {
   "cell_type": "code",
   "execution_count": 2,
   "metadata": {},
   "outputs": [
    {
     "name": "stdout",
     "output_type": "stream",
     "text": [
      "Collecting package metadata (current_repodata.json): done\n",
      "Solving environment: failed with repodata from current_repodata.json, will retry with next repodata source.\n",
      "Collecting package metadata (repodata.json): done\n",
      "Solving environment: done\n",
      "\n",
      "## Package Plan ##\n",
      "\n",
      "  environment location: /home/spuccio/miniconda3/envs/interactomeseq\n",
      "\n",
      "  added / updated specs:\n",
      "    - bioconductor-edger\n",
      "    - biom-format\n",
      "    - biopython\n",
      "    - blast\n",
      "    - cutadapt=1.12\n",
      "    - cython\n",
      "    - kallisto=0.46.0\n",
      "    - matplotlib=1.5.3\n",
      "    - pandas=0.21.0\n",
      "    - pybedtools\n",
      "    - python=2.7.14\n",
      "    - r-base=3.4.1\n",
      "    - samtools=0.1.19\n",
      "    - trimmomatic=0.36\n",
      "    - ucsc-bedgraphtobigwig\n",
      "\n",
      "\n",
      "The following packages will be downloaded:\n",
      "\n",
      "    package                    |            build\n",
      "    ---------------------------|-----------------\n",
      "    python-2.7.14              |                5        13.8 MB  conda-forge\n",
      "    ------------------------------------------------------------\n",
      "                                           Total:        13.8 MB\n",
      "\n",
      "The following NEW packages will be INSTALLED:\n",
      "\n",
      "  _libgcc_mutex      conda-forge/linux-64::_libgcc_mutex-0.1-conda_forge\n",
      "  _openmp_mutex      conda-forge/linux-64::_openmp_mutex-4.5-1_llvm\n",
      "  _r-mutex           conda-forge/noarch::_r-mutex-1.0.1-anacondar_1\n",
      "  bedtools           bioconda/linux-64::bedtools-2.29.2-hc088bd4_0\n",
      "  bioconductor-edger bioconda/linux-64::bioconductor-edger-3.22.5-r341hfc679d8_0\n",
      "  bioconductor-limma bioconda/linux-64::bioconductor-limma-3.36.5-r341h470a237_0\n",
      "  biom-format        conda-forge/linux-64::biom-format-2.1.7-py27h3010b51_1002\n",
      "  biopython          conda-forge/linux-64::biopython-1.76-py27h516909a_0\n",
      "  blast              bioconda/linux-64::blast-2.6.0-boost1.61_1\n",
      "  boost              anaconda/linux-64::boost-1.61.0-py27_0\n",
      "  bz2file            conda-forge/noarch::bz2file-0.98-py_0\n",
      "  bzip2              conda-forge/linux-64::bzip2-1.0.8-h516909a_2\n",
      "  ca-certificates    conda-forge/linux-64::ca-certificates-2020.4.5.1-hecc5488_0\n",
      "  cairo              anaconda/linux-64::cairo-1.14.8-0\n",
      "  certifi            conda-forge/linux-64::certifi-2019.11.28-py27h8c360ce_1\n",
      "  click              conda-forge/noarch::click-7.1.1-pyh8c360ce_0\n",
      "  curl               conda-forge/linux-64::curl-7.64.0-h646f8bb_0\n",
      "  cutadapt           bioconda/linux-64::cutadapt-1.12-py27_1\n",
      "  cycler             conda-forge/noarch::cycler-0.10.0-py_2\n",
      "  cython             conda-forge/linux-64::cython-0.29.15-py27haf22ab1_1\n",
      "  dbus               conda-forge/linux-64::dbus-1.13.0-h4e0c4b3_1000\n",
      "  expat              conda-forge/linux-64::expat-2.2.9-he1b5a44_2\n",
      "  fontconfig         anaconda/linux-64::fontconfig-2.12.1-3\n",
      "  freetype           anaconda/linux-64::freetype-2.5.5-2\n",
      "  future             conda-forge/linux-64::future-0.18.2-py27h8c360ce_1\n",
      "  glib               anaconda/linux-64::glib-2.50.2-1\n",
      "  gsl                conda-forge/linux-64::gsl-2.6-h294904e_0\n",
      "  gst-plugins-base   conda-forge/linux-64::gst-plugins-base-1.8.0-0\n",
      "  gstreamer          conda-forge/linux-64::gstreamer-1.8.0-1\n",
      "  harfbuzz           anaconda/linux-64::harfbuzz-0.9.39-2\n",
      "  hdf5               conda-forge/linux-64::hdf5-1.10.5-nompi_h3c11f04_1104\n",
      "  icu                anaconda/linux-64::icu-54.1-0\n",
      "  jpeg               conda-forge/linux-64::jpeg-9c-h14c3975_1001\n",
      "  kallisto           bioconda/linux-64::kallisto-0.46.0-h4f7b962_1\n",
      "  krb5               conda-forge/linux-64::krb5-1.16.3-hc83ff2d_1000\n",
      "  libblas            conda-forge/linux-64::libblas-3.8.0-16_openblas\n",
      "  libcblas           conda-forge/linux-64::libcblas-3.8.0-16_openblas\n",
      "  libcurl            conda-forge/linux-64::libcurl-7.64.0-h01ee5af_0\n",
      "  libdeflate         conda-forge/linux-64::libdeflate-1.5-h516909a_0\n",
      "  libedit            conda-forge/linux-64::libedit-3.1.20170329-0\n",
      "  libffi             conda-forge/linux-64::libffi-3.2.1-he1b5a44_1007\n",
      "  libgcc             conda-forge/linux-64::libgcc-7.2.0-h69d50b8_2\n",
      "  libgcc-ng          conda-forge/linux-64::libgcc-ng-9.2.0-h24d8f2e_2\n",
      "  libgfortran-ng     conda-forge/linux-64::libgfortran-ng-7.3.0-hdf63c60_5\n",
      "  libiconv           conda-forge/linux-64::libiconv-1.14-4\n",
      "  liblapack          conda-forge/linux-64::liblapack-3.8.0-16_openblas\n",
      "  libopenblas        conda-forge/linux-64::libopenblas-0.3.9-h5ec1e0e_0\n",
      "  libpng             conda-forge/linux-64::libpng-1.6.37-hed695b0_1\n",
      "  libssh2            conda-forge/linux-64::libssh2-1.8.0-h1ad7b7a_1003\n",
      "  libstdcxx-ng       conda-forge/linux-64::libstdcxx-ng-9.2.0-hdf63c60_2\n",
      "  libtiff            conda-forge/linux-64::libtiff-4.1.0-hc7e4089_6\n",
      "  libuuid            conda-forge/linux-64::libuuid-2.32.1-h14c3975_1000\n",
      "  libwebp-base       conda-forge/linux-64::libwebp-base-1.1.0-h516909a_3\n",
      "  libxcb             conda-forge/linux-64::libxcb-1.13-h14c3975_1002\n",
      "  libxml2            anaconda/linux-64::libxml2-2.9.9-hea5a465_1\n",
      "  llvm-openmp        conda-forge/linux-64::llvm-openmp-9.0.1-hc9558a2_2\n",
      "  lz4-c              conda-forge/linux-64::lz4-c-1.8.3-he1b5a44_1001\n",
      "  matplotlib         anaconda/linux-64::matplotlib-1.5.3-np111py27_1\n",
      "  mysql-connector-c  conda-forge/linux-64::mysql-connector-c-6.1.11-hab6429c_1002\n",
      "  ncurses            conda-forge/linux-64::ncurses-5.9-10\n",
      "  numpy              conda-forge/linux-64::numpy-1.11.3-py27he5ce36f_1207\n",
      "  openjdk            conda-forge/linux-64::openjdk-11.0.1-h516909a_1016\n",
      "  openssl            conda-forge/linux-64::openssl-1.0.2u-h516909a_0\n",
      "  pandas             conda-forge/linux-64::pandas-0.21.0-py27_0\n",
      "  pango              anaconda/linux-64::pango-1.40.3-1\n",
      "  pcre               conda-forge/linux-64::pcre-8.39-0\n",
      "  pip                conda-forge/noarch::pip-20.0.2-py_2\n",
      "  pixman             conda-forge/linux-64::pixman-0.34.0-h14c3975_1003\n",
      "  pthread-stubs      conda-forge/linux-64::pthread-stubs-0.4-h14c3975_1001\n",
      "  pybedtools         bioconda/linux-64::pybedtools-0.8.1-py27he513fc3_0\n",
      "  pycairo            conda-forge/linux-64::pycairo-1.16.3-py27_0\n",
      "  pyparsing          conda-forge/noarch::pyparsing-2.4.7-pyh9f0ad1d_0\n",
      "  pyqi               conda-forge/noarch::pyqi-0.3.2-py_0\n",
      "  pyqt               conda-forge/linux-64::pyqt-5.6.0-py27h13b7fb3_1008\n",
      "  pysam              bioconda/linux-64::pysam-0.15.4-py27hbcae180_0\n",
      "  python             conda-forge/linux-64::python-2.7.14-5\n",
      "  python-dateutil    conda-forge/noarch::python-dateutil-2.8.1-py_0\n",
      "  python_abi         conda-forge/linux-64::python_abi-2.7-1_cp27mu\n",
      "  pytz               conda-forge/noarch::pytz-2019.3-py_0\n",
      "  qt                 anaconda/linux-64::qt-5.6.2-5\n",
      "  r-base             r/linux-64::r-base-3.4.1-1\n",
      "  r-lattice          conda-forge/linux-64::r-lattice-0.20_35-r341hc070d10_0\n",
      "  r-locfit           conda-forge/linux-64::r-locfit-1.5_9.1-r341h470a237_2\n",
      "  r-rcpp             conda-forge/linux-64::r-rcpp-1.0.0-r341h9d2a408_0\n",
      "  readline           conda-forge/linux-64::readline-7.0-0\n",
      "  samtools           bioconda/linux-64::samtools-0.1.19-3\n",
      "  scipy              conda-forge/linux-64::scipy-1.2.1-py27h09a28d5_1\n",
      "  setuptools         conda-forge/linux-64::setuptools-44.0.0-py27_0\n",
      "  sip                conda-forge/linux-64::sip-4.18.1-py27hf484d3e_1000\n",
      "  six                conda-forge/noarch::six-1.14.0-py_1\n",
      "  sqlite             conda-forge/linux-64::sqlite-3.20.1-2\n",
      "  tk                 conda-forge/linux-64::tk-8.6.10-hed695b0_0\n",
      "  trimmomatic        bioconda/noarch::trimmomatic-0.36-6\n",
      "  ucsc-bedgraphtobi~ bioconda/linux-64::ucsc-bedgraphtobigwig-377-h199ee4e_0\n",
      "  wheel              conda-forge/noarch::wheel-0.34.2-py_1\n",
      "  xopen              conda-forge/linux-64::xopen-0.8.4-py27h8c360ce_1\n",
      "  xorg-libxau        conda-forge/linux-64::xorg-libxau-1.0.9-h14c3975_0\n",
      "  xorg-libxdmcp      conda-forge/linux-64::xorg-libxdmcp-1.1.3-h516909a_0\n",
      "  xz                 conda-forge/linux-64::xz-5.2.5-h516909a_0\n",
      "  zlib               conda-forge/linux-64::zlib-1.2.11-h516909a_1006\n",
      "  zstd               conda-forge/linux-64::zstd-1.4.4-h3b9ef0a_2\n",
      "\n",
      "\n",
      "\n",
      "Downloading and Extracting Packages\n",
      "python-2.7.14        | 13.8 MB   | ##################################### | 100% \n",
      "Preparing transaction: done\n",
      "Verifying transaction: done\n",
      "Executing transaction: done\n",
      "#\n",
      "# To activate this environment, use\n",
      "#\n",
      "#     $ conda activate interactomeseq\n",
      "#\n",
      "# To deactivate an active environment, use\n",
      "#\n",
      "#     $ conda deactivate\n",
      "\n"
     ]
    }
   ],
   "source": [
    "conda create -n interactomeseq python=2.7.14 matplotlib=1.5.3 trimmomatic=0.36 kallisto=0.46.0 cutadapt=1.12 blast r-base=3.4.1 pandas=0.21.0 samtools=0.1.19 cython biom-format biopython=1.68 pybedtools bioconductor-edger ucsc-bedgraphtobigwig -c conda-forge -c bioconda -c r -c anaconda -y"
   ]
  },
  {
   "cell_type": "markdown",
   "metadata": {},
   "source": [
    "### Activate your InteractomeSeq environment and test your installation"
   ]
  },
  {
   "cell_type": "code",
   "execution_count": 3,
   "metadata": {},
   "outputs": [
    {
     "name": "stdout",
     "output_type": "stream",
     "text": [
      "(interactomeseq) "
     ]
    },
    {
     "ename": "",
     "evalue": "1",
     "output_type": "error",
     "traceback": []
    }
   ],
   "source": [
    "conda activate interactomeseq"
   ]
  },
  {
   "cell_type": "code",
   "execution_count": null,
   "metadata": {},
   "outputs": [],
   "source": [
    "conda list | less "
   ]
  },
  {
   "cell_type": "markdown",
   "metadata": {},
   "source": [
    "If you decide later that you don’t want the environment or its packages anymore, deactivate the environment and then run this command:"
   ]
  },
  {
   "cell_type": "code",
   "execution_count": null,
   "metadata": {},
   "outputs": [],
   "source": [
    "# Commented to avoid deletion\n",
    "#conda remove --name interactomeseq --all"
   ]
  },
  {
   "cell_type": "markdown",
   "metadata": {},
   "source": [
    "### Installing additional dependencies accessible in your interactomeseq environment"
   ]
  },
  {
   "cell_type": "markdown",
   "metadata": {},
   "source": [
    "Then install qiime1 version 1.91.1"
   ]
  },
  {
   "cell_type": "markdown",
   "metadata": {},
   "source": [
    "This should be launched as control "
   ]
  },
  {
   "cell_type": "code",
   "execution_count": 4,
   "metadata": {},
   "outputs": [
    {
     "name": "stdout",
     "output_type": "stream",
     "text": [
      "Collecting package metadata (current_repodata.json): done\n",
      "Solving environment: done\n",
      "\n",
      "# All requested packages already installed.\n",
      "\n",
      "(interactomeseq) "
     ]
    },
    {
     "ename": "",
     "evalue": "1",
     "output_type": "error",
     "traceback": []
    }
   ],
   "source": [
    "conda install -c bioconda pysam -y"
   ]
  },
  {
   "cell_type": "code",
   "execution_count": 5,
   "metadata": {},
   "outputs": [
    {
     "name": "stdout",
     "output_type": "stream",
     "text": [
      "Collecting package metadata (current_repodata.json): done\n",
      "Solving environment: failed with initial frozen solve. Retrying with flexible solve.\n",
      "Solving environment: failed with repodata from current_repodata.json, will retry with next repodata source.\n",
      "Collecting package metadata (repodata.json): done\n",
      "Solving environment: done\n",
      "\n",
      "## Package Plan ##\n",
      "\n",
      "  environment location: /home/spuccio/miniconda3/envs/interactomeseq\n",
      "\n",
      "  added / updated specs:\n",
      "    - readline=6.2\n",
      "\n",
      "\n",
      "The following packages will be REMOVED:\n",
      "\n",
      "  krb5-1.16.3-hc83ff2d_1000\n",
      "  libcurl-7.64.0-h01ee5af_0\n",
      "\n",
      "The following packages will be DOWNGRADED:\n",
      "\n",
      "  curl                                    7.64.0-h646f8bb_0 --> 7.52.1-0\n",
      "  python                                           2.7.14-5 --> 2.7.14-2\n",
      "  readline                                            7.0-0 --> 6.2-0\n",
      "  sqlite                                           3.20.1-2 --> 3.13.0-1\n",
      "  tk                                      8.6.10-hed695b0_0 --> 8.5.19-2\n",
      "\n",
      "\n",
      "Preparing transaction: done\n",
      "Verifying transaction: done\n",
      "Executing transaction: done\n",
      "(interactomeseq) "
     ]
    },
    {
     "ename": "",
     "evalue": "1",
     "output_type": "error",
     "traceback": []
    }
   ],
   "source": [
    "conda install -c conda-forge readline=6.2 -y"
   ]
  },
  {
   "cell_type": "code",
   "execution_count": null,
   "metadata": {},
   "outputs": [],
   "source": [
    " pip install qiime "
   ]
  },
  {
   "cell_type": "markdown",
   "metadata": {},
   "source": [
    "### Clone the Github repository"
   ]
  },
  {
   "cell_type": "code",
   "execution_count": null,
   "metadata": {},
   "outputs": [],
   "source": [
    "git clone https://github.com/sinnamone/InteractomeSeq"
   ]
  }
 ],
 "metadata": {
  "kernelspec": {
   "display_name": "Bash",
   "language": "bash",
   "name": "bash"
  },
  "language_info": {
   "codemirror_mode": "shell",
   "file_extension": ".sh",
   "mimetype": "text/x-sh",
   "name": "bash"
  }
 },
 "nbformat": 4,
 "nbformat_minor": 4
}
