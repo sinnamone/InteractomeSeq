{
 "cells": [
  {
   "cell_type": "markdown",
   "metadata": {},
   "source": [
    "# InteractomeSeq CLI pipeline with Prokaryotic dataset"
   ]
  },
  {
   "cell_type": "markdown",
   "metadata": {},
   "source": [
    "### 1) Download Prokaryotic dataset"
   ]
  },
  {
   "cell_type": "code",
   "execution_count": 1,
   "metadata": {},
   "outputs": [
    {
     "name": "stdout",
     "output_type": "stream",
     "text": [
      "/home/spuccio\n"
     ]
    }
   ],
   "source": [
    "pwd"
   ]
  },
  {
   "cell_type": "markdown",
   "metadata": {},
   "source": [
    "#### Activate conda env"
   ]
  },
  {
   "cell_type": "code",
   "execution_count": 52,
   "metadata": {},
   "outputs": [
    {
     "name": "stdout",
     "output_type": "stream",
     "text": [
      "(interactomeseq) "
     ]
    },
    {
     "ename": "",
     "evalue": "1",
     "output_type": "error",
     "traceback": []
    }
   ],
   "source": [
    "conda activate interactomeseq"
   ]
  },
  {
   "cell_type": "markdown",
   "metadata": {},
   "source": [
    "#### Create Working Folder"
   ]
  },
  {
   "cell_type": "code",
   "execution_count": 2,
   "metadata": {},
   "outputs": [],
   "source": [
    "mkdir -p InteractomSeqCLIProkaryotic"
   ]
  },
  {
   "cell_type": "code",
   "execution_count": 3,
   "metadata": {},
   "outputs": [],
   "source": [
    "cd InteractomSeqCLIProkaryotic"
   ]
  },
  {
   "cell_type": "code",
   "execution_count": 4,
   "metadata": {},
   "outputs": [],
   "source": [
    "WorkingDir=$(pwd)"
   ]
  },
  {
   "cell_type": "code",
   "execution_count": 20,
   "metadata": {},
   "outputs": [],
   "source": [
    "processor=10"
   ]
  },
  {
   "cell_type": "code",
   "execution_count": 5,
   "metadata": {},
   "outputs": [
    {
     "name": "stdout",
     "output_type": "stream",
     "text": [
      "/home/spuccio/InteractomSeqCLIProkaryotic\n"
     ]
    }
   ],
   "source": [
    "echo $WorkingDir"
   ]
  },
  {
   "cell_type": "markdown",
   "metadata": {},
   "source": [
    "#### Data download with wget "
   ]
  },
  {
   "cell_type": "code",
   "execution_count": 6,
   "metadata": {},
   "outputs": [
    {
     "name": "stdout",
     "output_type": "stream",
     "text": [
      "--2020-04-09 17:09:54--  http://interactomeseq.ba.itb.cnr.it/data/_uploaded/file/Prokaryote_Hp26695.zip\n",
      "Risoluzione di interactomeseq.ba.itb.cnr.it (interactomeseq.ba.itb.cnr.it)... 150.145.82.8\n",
      "Connessione a interactomeseq.ba.itb.cnr.it (interactomeseq.ba.itb.cnr.it)|150.145.82.8|:80... connesso.\n",
      "Richiesta HTTP inviata, in attesa di risposta... 200 OK\n",
      "Lunghezza: 1200780141 (1,1G) [application/zip]\n",
      "Salvataggio in: \"/home/spuccio/InteractomSeqCLIProkaryotic/Prokaryote_Hp26695.zip\"\n",
      "\n",
      "Prokaryote_Hp26695. 100%[===================>]   1,12G  5,81MB/s    in 4m 4s   \n",
      "\n",
      "2020-04-09 17:13:58 (4,69 MB/s) - \"/home/spuccio/InteractomSeqCLIProkaryotic/Prokaryote_Hp26695.zip\" salvato [1200780141/1200780141]\n",
      "\n",
      "\n",
      "real\t4m4,398s\n",
      "user\t0m0,648s\n",
      "sys\t0m6,992s\n"
     ]
    }
   ],
   "source": [
    "time wget http://interactomeseq.ba.itb.cnr.it/data/_uploaded/file/Prokaryote_Hp26695.zip -P $WorkingDir"
   ]
  },
  {
   "cell_type": "code",
   "execution_count": 7,
   "metadata": {},
   "outputs": [
    {
     "name": "stdout",
     "output_type": "stream",
     "text": [
      "\u001b[0m\u001b[01;31mProkaryote_Hp26695.zip\u001b[0m\n"
     ]
    }
   ],
   "source": [
    "cd $WorkingDir\n",
    "ls "
   ]
  },
  {
   "cell_type": "code",
   "execution_count": 8,
   "metadata": {},
   "outputs": [],
   "source": [
    "mkdir rawdata"
   ]
  },
  {
   "cell_type": "markdown",
   "metadata": {},
   "source": [
    "Unzip folder"
   ]
  },
  {
   "cell_type": "code",
   "execution_count": 9,
   "metadata": {},
   "outputs": [
    {
     "name": "stdout",
     "output_type": "stream",
     "text": [
      "Archive:  Prokaryote_Hp26695.zip\n",
      "  inflating: rawdata/GCF_000008525.1_ASM852v1_genomic.fna  \n",
      "  inflating: rawdata/GCF_000008525.1_ASM852v1_genomic.gff  \n",
      "  inflating: rawdata/Sel_AG_R1.fastq.gz  \n",
      "  inflating: rawdata/Sel_AG_R2.fastq.gz  \n",
      "  inflating: rawdata/Sel_HPneg_R1.fastq.gz  \n",
      "  inflating: rawdata/Sel_HPneg_R2.fastq.gz  \n",
      "  inflating: rawdata/Sel_HPpos_R1.fastq.gz  \n",
      "  inflating: rawdata/Sel_HPpos_R2.fastq.gz  \n",
      "  inflating: rawdata/HP_genomic_26695_R1.fastq.gz  \n",
      "  inflating: rawdata/HP_genomic_26695_R2.fastq.gz  \n",
      "  inflating: rawdata/Prokaryote_Hp26695_Tutorial.pdf  \n"
     ]
    }
   ],
   "source": [
    "unzip -d rawdata Prokaryote_Hp26695.zip "
   ]
  },
  {
   "cell_type": "code",
   "execution_count": 22,
   "metadata": {},
   "outputs": [],
   "source": [
    "cd rawdata"
   ]
  },
  {
   "cell_type": "code",
   "execution_count": 12,
   "metadata": {},
   "outputs": [],
   "source": [
    "gunzip *.fastq.gz "
   ]
  },
  {
   "cell_type": "markdown",
   "metadata": {},
   "source": [
    "Alternatively they can be downloaded from here: https://interactomeseq.ba.itb.cnr.it/Prokaryote#!/Hp26695/Uploading"
   ]
  },
  {
   "cell_type": "code",
   "execution_count": 23,
   "metadata": {},
   "outputs": [],
   "source": [
    "RawData=$(pwd)"
   ]
  },
  {
   "cell_type": "code",
   "execution_count": 13,
   "metadata": {},
   "outputs": [
    {
     "name": "stdout",
     "output_type": "stream",
     "text": [
      "GCF_000008525.1_ASM852v1_genomic.fna  Sel_AG_R2.fastq\n",
      "GCF_000008525.1_ASM852v1_genomic.gff  Sel_HPneg_R1.fastq\n",
      "HP_genomic_26695_R1.fastq             Sel_HPneg_R2.fastq\n",
      "HP_genomic_26695_R2.fastq             Sel_HPpos_R1.fastq\n",
      "Prokaryote_Hp26695_Tutorial.pdf       Sel_HPpos_R2.fastq\n",
      "Sel_AG_R1.fastq\n"
     ]
    }
   ],
   "source": [
    "ls"
   ]
  },
  {
   "cell_type": "markdown",
   "metadata": {},
   "source": [
    "#### Now we are ready to start the analysis with InteractomeSeqCLI"
   ]
  },
  {
   "cell_type": "code",
   "execution_count": 37,
   "metadata": {},
   "outputs": [],
   "source": [
    "cd $WorkingDir"
   ]
  },
  {
   "cell_type": "code",
   "execution_count": 31,
   "metadata": {},
   "outputs": [
    {
     "name": "stdout",
     "output_type": "stream",
     "text": [
      "\u001b[0m\u001b[01;34mInteractomeSeq\u001b[0m  \u001b[01;34moutput\u001b[0m  \u001b[01;31mProkaryote_Hp26695.zip\u001b[0m  \u001b[01;34mrawdata\u001b[0m\n"
     ]
    }
   ],
   "source": [
    "ls"
   ]
  },
  {
   "cell_type": "code",
   "execution_count": 18,
   "metadata": {},
   "outputs": [
    {
     "name": "stdout",
     "output_type": "stream",
     "text": [
      "Cloning into 'InteractomeSeq'...\n",
      "remote: Enumerating objects: 34, done.\u001b[K\n",
      "remote: Counting objects: 100% (34/34), done.\u001b[K\n",
      "remote: Compressing objects: 100% (26/26), done.\u001b[K\n",
      "remote: Total 581 (delta 13), reused 22 (delta 8), pack-reused 547\u001b[K\n",
      "Ricezione degli oggetti: 100% (581/581), 263.09 KiB | 0 bytes/s, done.\n",
      "Risoluzione dei delta: 100% (423/423), done.\n"
     ]
    }
   ],
   "source": [
    "git clone https://github.com/sinnamone/InteractomeSeq"
   ]
  },
  {
   "cell_type": "code",
   "execution_count": 32,
   "metadata": {},
   "outputs": [
    {
     "name": "stdout",
     "output_type": "stream",
     "text": [
      "\u001b[0m\u001b[01;34mInteractomeSeq\u001b[0m  \u001b[01;34moutput\u001b[0m  \u001b[01;31mProkaryote_Hp26695.zip\u001b[0m  \u001b[01;34mrawdata\u001b[0m\n"
     ]
    }
   ],
   "source": [
    "ls "
   ]
  },
  {
   "cell_type": "markdown",
   "metadata": {},
   "source": [
    "Reference files (FASTA and GFF) are downloaded from https://www.ncbi.nlm.nih.gov/genome/ , before to launch the script fasta index should be indexed while gff should be parsed. For parsing we provide a custom script call gff_parser_ncbi_newformat.py"
   ]
  },
  {
   "cell_type": "code",
   "execution_count": 69,
   "metadata": {},
   "outputs": [
    {
     "name": "stdout",
     "output_type": "stream",
     "text": [
      "(interactomeseq) "
     ]
    },
    {
     "ename": "",
     "evalue": "1",
     "output_type": "error",
     "traceback": []
    }
   ],
   "source": [
    "samtools faidx  \"$RawData\"/GCF_000008525.1_ASM852v1_genomic.fna "
   ]
  },
  {
   "cell_type": "code",
   "execution_count": 76,
   "metadata": {},
   "outputs": [
    {
     "name": "stdout",
     "output_type": "stream",
     "text": [
      "(interactomeseq) "
     ]
    },
    {
     "ename": "",
     "evalue": "1",
     "output_type": "error",
     "traceback": []
    }
   ],
   "source": [
    "python \"$WorkingDir\"/InteractomeSeq/PyinteraseqProkaryotic/gff_parser_ncbi_newformat.py --gff \"$RawData\"/GCF_000008525.1_ASM852v1_genomic.gff --outputfolder \"$RawData\" --outputid GCF_000008525.1_ASM852v1_genomic_parsed "
   ]
  },
  {
   "cell_type": "code",
   "execution_count": 148,
   "metadata": {},
   "outputs": [
    {
     "name": "stdout",
     "output_type": "stream",
     "text": [
      "Sel_AG_R2.fastq\n",
      "Sel_AG_R1.fastq\n",
      "Sel_HPneg_R2.fastq\n",
      "Sel_HPneg_R1.fastq\n",
      "HP_genomic_26695_R1.fastq\n",
      "HP_genomic_26695_R2.fastq\n",
      "Sel_HPpos_R2.fastq\n",
      "Sel_HPpos_R1.fastq\n",
      "GCF_000008525.1_ASM852v1_genomic_parsed.bed\n",
      "GCF_000008525.1_ASM852v1_genomic.fna.fai\n",
      "(interactomeseq) "
     ]
    },
    {
     "ename": "",
     "evalue": "1",
     "output_type": "error",
     "traceback": []
    }
   ],
   "source": [
    "ls -t \"$RawData\" | head"
   ]
  },
  {
   "cell_type": "markdown",
   "metadata": {},
   "source": [
    "### 2) Mapping reads against reference genome"
   ]
  },
  {
   "cell_type": "code",
   "execution_count": 21,
   "metadata": {},
   "outputs": [],
   "source": [
    "mkdir -p output"
   ]
  },
  {
   "cell_type": "code",
   "execution_count": 41,
   "metadata": {},
   "outputs": [],
   "source": [
    "cd \"$WorkingDir\"/InteractomeSeq/PyinteraseqProkaryotic"
   ]
  },
  {
   "cell_type": "markdown",
   "metadata": {},
   "source": [
    "#### During this step Adapters are removed with Cutdapt and cleaned reads assigned to the reference genome with Blastn. Input dataset could be executed both with SingleEnd and PairedEnd modality, using Fasta and Fastq. \n",
    "#### The main purpose of this first mapping is to filter the reads with many mismatches that could be sequencing artifacts.\n",
    "#### Blast output are filtered and only the reads with the best match are considered. "
   ]
  },
  {
   "cell_type": "code",
   "execution_count": 119,
   "metadata": {},
   "outputs": [
    {
     "name": "stdout",
     "output_type": "stream",
     "text": [
      "\n",
      "real\t14m42,317s\n",
      "user\t44m33,984s\n",
      "sys\t1m15,116s\n",
      "(interactomeseq) "
     ]
    },
    {
     "ename": "",
     "evalue": "1",
     "output_type": "error",
     "traceback": []
    }
   ],
   "source": [
    "time for i in HP_genomic_26695 Sel_AG Sel_HPneg Sel_HPpos; do python pyinteraseq_main_mapping.py --readforward \"$RawData\"/\"$i\"_R1.fastq --readreverse \"$RawData\"/\"$i\"_R2.fastq  --outputfolder \"$WorkingDir\"/output --primer5forward GCAGCAAGCGGCGCGCATGCCACTAGTGGGAT --primer3forward CCCAGAGCAA  --primer5reverse GGGATTGGTTTGCCGCTAGCGGAGAT --primer3reverse CCCAGAGCAA --fastasequence \"$RawData\"/GCF_000008525.1_ASM852v1_genomic.fna --thread $processor --outputid $i ; done"
   ]
  },
  {
   "cell_type": "markdown",
   "metadata": {},
   "source": [
    "#### Output files are two:\n",
    "#### 1) File (.tab) with the aligned sequences; \n",
    "#### 2) File (.log) with the log of the execution and metrics;\n",
    "#### File tab will have mutuated from Blast, outformat7 with this columns '7 qseqid sseqid pident length mismatch gapopen qstart qend sstart send evalue bitscore sseq'"
   ]
  },
  {
   "cell_type": "code",
   "execution_count": 155,
   "metadata": {},
   "outputs": [
    {
     "name": "stdout",
     "output_type": "stream",
     "text": [
      "/home/spuccio/InteractomSeqCLIProkaryotic/output/HP_genomic_26695_mapping.log\n",
      "/home/spuccio/InteractomSeqCLIProkaryotic/output/HP_genomic_26695_mapping.tab\n",
      "/home/spuccio/InteractomSeqCLIProkaryotic/output/Sel_AG_mapping.log\n",
      "/home/spuccio/InteractomSeqCLIProkaryotic/output/Sel_AG_mapping.tab\n",
      "/home/spuccio/InteractomSeqCLIProkaryotic/output/Sel_HPneg_mapping.log\n",
      "/home/spuccio/InteractomSeqCLIProkaryotic/output/Sel_HPneg_mapping.tab\n",
      "/home/spuccio/InteractomSeqCLIProkaryotic/output/Sel_HPpos_mapping.log\n",
      "/home/spuccio/InteractomSeqCLIProkaryotic/output/Sel_HPpos_mapping.tab\n",
      "(interactomeseq) "
     ]
    },
    {
     "ename": "",
     "evalue": "1",
     "output_type": "error",
     "traceback": []
    }
   ],
   "source": [
    "ls \"$WorkingDir\"/output/*_mapping.* "
   ]
  },
  {
   "cell_type": "code",
   "execution_count": 123,
   "metadata": {},
   "outputs": [
    {
     "name": "stdout",
     "output_type": "stream",
     "text": [
      "Thu Apr  9 21:22:30 2020\n",
      "\n",
      "###Setting Parameters\n",
      "\n",
      "###Sequencing input:\tPaired-End\n",
      "###Input dataset forward:\tHP_genomic_26695_R1.fastq\n",
      "###Input dataset reverse:\tHP_genomic_26695_R2.fastq\n",
      "###Primer 5' forward read:\tGCAGCAAGCGGCGCGCATGCCACTAGTGGGAT\n",
      "###Primer 3' forward read:\tCCCAGAGCAA\n",
      "###Primer 5' reverse read:\tGGGATTGGTTTGCCGCTAGCGGAGAT\n",
      "(interactomeseq) "
     ]
    },
    {
     "ename": "",
     "evalue": "1",
     "output_type": "error",
     "traceback": []
    }
   ],
   "source": [
    "head \"$WorkingDir\"/output/HP_genomic_26695_mapping.log "
   ]
  },
  {
   "cell_type": "markdown",
   "metadata": {},
   "source": [
    "### 3) Domain Definition"
   ]
  },
  {
   "cell_type": "markdown",
   "metadata": {},
   "source": [
    "#### This is the core of the analysis, in this step reads are clustered using sumaclust algoritm. The representative sequence of each cluster, represented by the most_abundant sequence of the cluster are picked using pick_rep_seq.py from qiime (--rep_set_picking_method most_abundant ). The set of representative sequences is mapped against the Input Fasta Sequence. "
   ]
  },
  {
   "cell_type": "code",
   "execution_count": 125,
   "metadata": {},
   "outputs": [
    {
     "name": "stdout",
     "output_type": "stream",
     "text": [
      "\n",
      "real\t5m11,850s\n",
      "user\t37m41,560s\n",
      "sys\t0m16,640s\n",
      "(interactomeseq) "
     ]
    },
    {
     "ename": "",
     "evalue": "1",
     "output_type": "error",
     "traceback": []
    }
   ],
   "source": [
    "time  for i in HP_genomic_26695 Sel_AG Sel_HPneg Sel_HPpos; do python pyinteraseq_main_domain_definition.py --mappingoutput \"$WorkingDir\"/output/\"$i\"_mapping.tab  --outputfolder \"$WorkingDir\"/output --outputid $i --fastasequence \"$RawData\"/GCF_000008525.1_ASM852v1_genomic.fna --annotation \"$RawData\"/GCF_000008525.1_ASM852v1_genomic_parsed.bed --thread $processor ; done"
   ]
  },
  {
   "cell_type": "code",
   "execution_count": 156,
   "metadata": {},
   "outputs": [
    {
     "name": "stdout",
     "output_type": "stream",
     "text": [
      "/home/spuccio/InteractomSeqCLIProkaryotic/output/HP_genomic_26695_definition.log\n",
      "/home/spuccio/InteractomSeqCLIProkaryotic/output/HP_genomic_26695_definition.txt\n",
      "/home/spuccio/InteractomSeqCLIProkaryotic/output/Sel_AG_definition.log\n",
      "/home/spuccio/InteractomSeqCLIProkaryotic/output/Sel_AG_definition.txt\n",
      "/home/spuccio/InteractomSeqCLIProkaryotic/output/Sel_HPneg_definition.log\n",
      "/home/spuccio/InteractomSeqCLIProkaryotic/output/Sel_HPneg_definition.txt\n",
      "/home/spuccio/InteractomSeqCLIProkaryotic/output/Sel_HPpos_definition.log\n",
      "/home/spuccio/InteractomSeqCLIProkaryotic/output/Sel_HPpos_definition.txt\n",
      "(interactomeseq) "
     ]
    },
    {
     "ename": "",
     "evalue": "1",
     "output_type": "error",
     "traceback": []
    }
   ],
   "source": [
    "ls \"$WorkingDir\"/output/*_definition.* "
   ]
  },
  {
   "cell_type": "markdown",
   "metadata": {},
   "source": [
    "#### Output files are two:\n",
    "#### 1) File (.txt) with the predicted genomic domains; \n",
    "#### 2) File (.log) with the log of the execution and metrics;\n",
    "\n",
    "#### Output tabular have the following columns : \"Chr     CloneStart      CloneEnd        CloneLength     Start   End     GeneID  Strand  Description     NuclSeq\""
   ]
  },
  {
   "cell_type": "markdown",
   "metadata": {},
   "source": [
    "### 4) Domain Enrichment"
   ]
  },
  {
   "cell_type": "markdown",
   "metadata": {},
   "source": [
    "#### This step, like the following ones in points 4,5,6, is optional. After the domain definition, the user obtains the list of domains present in the genomic library or selection.\n",
    "\n",
    "#### The following points have been designed to allow the user to compare / subtract / intersect and calculate a differential statistic of this predicted genomic domains.\n",
    "\n",
    "#### This depends on the experimental design and serves to assist biologists in interpretation."
   ]
  },
  {
   "cell_type": "code",
   "execution_count": 127,
   "metadata": {},
   "outputs": [
    {
     "name": "stdout",
     "output_type": "stream",
     "text": [
      "\n",
      "real\t0m27,569s\n",
      "user\t0m26,140s\n",
      "sys\t0m5,256s\n",
      "(interactomeseq) "
     ]
    },
    {
     "ename": "",
     "evalue": "1",
     "output_type": "error",
     "traceback": []
    }
   ],
   "source": [
    "time for i in Sel_AG Sel_HPneg Sel_HPpos; do python pyinteraseq_enrichment_prokaryotic.py --blastnoutputgenomic \"$WorkingDir\"/output/HP_genomic_26695_mapping.tab --blastnoutputarget \"$WorkingDir\"/output/\"$i\"_mapping.tab --domainstarget \"$WorkingDir\"/output/\"$i\"_definition.txt --outputfolder  \"$WorkingDir\"/output/ --outputid \"$i\"; done "
   ]
  },
  {
   "cell_type": "code",
   "execution_count": 158,
   "metadata": {},
   "outputs": [
    {
     "name": "stdout",
     "output_type": "stream",
     "text": [
      "/home/spuccio/InteractomSeqCLIProkaryotic/output/Sel_AG_enrichment.log\n",
      "/home/spuccio/InteractomSeqCLIProkaryotic/output/Sel_AG_enrichment.txt\n",
      "/home/spuccio/InteractomSeqCLIProkaryotic/output/Sel_HPneg_enrichment.log\n",
      "/home/spuccio/InteractomSeqCLIProkaryotic/output/Sel_HPneg_enrichment.txt\n",
      "/home/spuccio/InteractomSeqCLIProkaryotic/output/Sel_HPpos_enrichment.log\n",
      "/home/spuccio/InteractomSeqCLIProkaryotic/output/Sel_HPpos_enrichment.txt\n",
      "(interactomeseq) "
     ]
    },
    {
     "ename": "",
     "evalue": "1",
     "output_type": "error",
     "traceback": []
    }
   ],
   "source": [
    "ls \"$WorkingDir\"/output/*_enrichment.*"
   ]
  },
  {
   "cell_type": "markdown",
   "metadata": {},
   "source": [
    "#### Output files are two:\n",
    "#### 1) File (.txr) with the statistically enriched domains;\n",
    "#### 2) File (.log) with the log of the execution and metrics;\n",
    "\n",
    "#### Output tabular have the following columns: Chr\tCloneStart\tCloneEnd\tCloneLength\tStart\tEnd\tGeneID\tlogFC\tPValue\tAdjPValue\tStrand\tDescription\tNuclSeq"
   ]
  },
  {
   "cell_type": "markdown",
   "metadata": {},
   "source": [
    "### 5) Domain Subtraction"
   ]
  },
  {
   "cell_type": "markdown",
   "metadata": {},
   "source": [
    "#### This step allows the user to subtract common domains through the use of bedtools intersect."
   ]
  },
  {
   "cell_type": "code",
   "execution_count": 129,
   "metadata": {},
   "outputs": [
    {
     "name": "stdout",
     "output_type": "stream",
     "text": [
      "\n",
      "real\t0m0,889s\n",
      "user\t0m0,712s\n",
      "sys\t0m1,228s\n",
      "(interactomeseq) "
     ]
    },
    {
     "ename": "",
     "evalue": "1",
     "output_type": "error",
     "traceback": []
    }
   ],
   "source": [
    "time for i in Sel_HPpos Sel_AG ; do python pyinteraseq_subtraction_prokaryotic.py --enrichedcontrol \"$WorkingDir\"/output/Sel_HPneg_enrichment.txt --enrichedselection \"$WorkingDir\"/output/\"$i\"_enrichment.txt --outputfolder \"$WorkingDir\"/output --outputid $i; done"
   ]
  },
  {
   "cell_type": "code",
   "execution_count": 160,
   "metadata": {},
   "outputs": [
    {
     "name": "stdout",
     "output_type": "stream",
     "text": [
      "/home/spuccio/InteractomSeqCLIProkaryotic/output/Sel_AG_subtraction.log\n",
      "/home/spuccio/InteractomSeqCLIProkaryotic/output/Sel_AG_subtraction.txt\n",
      "/home/spuccio/InteractomSeqCLIProkaryotic/output/Sel_HPpos_subtraction.log\n",
      "/home/spuccio/InteractomSeqCLIProkaryotic/output/Sel_HPpos_subtraction.txt\n",
      "(interactomeseq) "
     ]
    },
    {
     "ename": "",
     "evalue": "1",
     "output_type": "error",
     "traceback": []
    }
   ],
   "source": [
    "ls -t \"$WorkingDir\"/output/*_subtraction.* | head"
   ]
  },
  {
   "cell_type": "markdown",
   "metadata": {},
   "source": [
    "#### Output files are two:\n",
    "#### 1) File (.txt) with the subtrated domains;\n",
    "#### 2) File (.log) with the log of the execution and metrics;\n",
    "\n",
    "##### Output tabular have the following columns: Chr\tCloneStart\tCloneEnd\tCloneLength\tStart\tEnd\tGeneID\tlogFC\tPValue\tAdjPValue\tStrand\tDescription\tNuclSeq"
   ]
  },
  {
   "cell_type": "markdown",
   "metadata": {},
   "source": [
    "### 6) Domain Intersection"
   ]
  },
  {
   "cell_type": "markdown",
   "metadata": {},
   "source": [
    "#### This step allows the user to intersect the lists with the predicted genomic domains. This scripts can be used to intersect at most 3 samples and produce a Venn diagram in png format. "
   ]
  },
  {
   "cell_type": "code",
   "execution_count": 135,
   "metadata": {},
   "outputs": [
    {
     "name": "stdout",
     "output_type": "stream",
     "text": [
      "(interactomeseq) "
     ]
    },
    {
     "ename": "",
     "evalue": "1",
     "output_type": "error",
     "traceback": []
    }
   ],
   "source": [
    "python pyinteraseq_intersection_prokaryotic.py --selection \"$WorkingDir\"/output/Sel_HPpos_subtraction.txt --selection \"$WorkingDir\"/output/Sel_AG_subtraction.txt --label HpPositiveControl --label AtrophicGastritis --outputfolder \"$WorkingDir\"/output  --outputid HpPositiveControlAtrophicGastritis"
   ]
  },
  {
   "cell_type": "code",
   "execution_count": 144,
   "metadata": {},
   "outputs": [
    {
     "name": "stdout",
     "output_type": "stream",
     "text": [
      "HpPositiveControlAtrophicGastritis_AtrophicGastritis_unique.txt\n",
      "HpPositiveControlAtrophicGastritis_HpPositiveControl_AtrophicGastritis_intersection.txt\n",
      "HpPositiveControlAtrophicGastritis_HpPositiveControl_unique.txt\n",
      "HpPositiveControlAtrophicGastritis.png\n",
      "Sel_AG_subtraction.log\n",
      "Sel_AG_subtraction.txt\n",
      "Sel_HPpos_subtraction.log\n",
      "Sel_HPpos_subtraction.txt\n",
      "Sel_HPpos_enrichment.log\n",
      "Sel_HPpos_enrichment.txt\n",
      "(interactomeseq) "
     ]
    },
    {
     "ename": "",
     "evalue": "1",
     "output_type": "error",
     "traceback": []
    }
   ],
   "source": [
    "ls -t \"$WorkingDir\"/output | head "
   ]
  },
  {
   "cell_type": "markdown",
   "metadata": {},
   "source": [
    "#### Output files are two:\n",
    "#### 1) File (.txr) with the intersected domains unique and common between samples ;¶\n",
    "#### 2) File (.log) with the log of the execution and metrics;\n",
    "#### 3) File (.png) Venn diagram plot \n",
    "\n",
    "##### Output tabular have the following columns: Chr\tCloneStart\tCloneEnd\tCloneLength\tStart\tEnd\tGeneID\tlogFC\tPValue\tAdjPValue\tStrand\tDescription\tNuclSeq"
   ]
  },
  {
   "cell_type": "code",
   "execution_count": 149,
   "metadata": {},
   "outputs": [
    {
     "name": "stdout",
     "output_type": "stream",
     "text": [
      "Done\n",
      "(interactomeseq) "
     ]
    },
    {
     "ename": "",
     "evalue": "1",
     "output_type": "error",
     "traceback": []
    }
   ],
   "source": [
    "echo \"Done\""
   ]
  }
 ],
 "metadata": {
  "kernelspec": {
   "display_name": "Bash",
   "language": "bash",
   "name": "bash"
  },
  "language_info": {
   "codemirror_mode": "shell",
   "file_extension": ".sh",
   "mimetype": "text/x-sh",
   "name": "bash"
  }
 },
 "nbformat": 4,
 "nbformat_minor": 2
}
