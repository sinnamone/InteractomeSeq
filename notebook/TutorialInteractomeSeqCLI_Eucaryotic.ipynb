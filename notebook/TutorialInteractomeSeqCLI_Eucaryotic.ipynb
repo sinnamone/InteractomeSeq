{
 "cells": [
  {
   "cell_type": "markdown",
   "metadata": {},
   "source": [
    "# InteractomeSeq CLI pipeline with Eukaryotic dataset"
   ]
  },
  {
   "cell_type": "markdown",
   "metadata": {},
   "source": [
    "### 1) Data download "
   ]
  },
  {
   "cell_type": "markdown",
   "metadata": {},
   "source": [
    "### Remenber to activate conda interactomeseq env "
   ]
  },
  {
   "cell_type": "code",
   "execution_count": 1,
   "metadata": {},
   "outputs": [
    {
     "name": "stdout",
     "output_type": "stream",
     "text": [
      "(interactomeseq) "
     ]
    },
    {
     "ename": "",
     "evalue": "1",
     "output_type": "error",
     "traceback": []
    }
   ],
   "source": [
    "conda activate interactomeseq"
   ]
  },
  {
   "cell_type": "code",
   "execution_count": null,
   "metadata": {},
   "outputs": [],
   "source": [
    "pwd -P"
   ]
  },
  {
   "cell_type": "code",
   "execution_count": 27,
   "metadata": {},
   "outputs": [
    {
     "name": "stdout",
     "output_type": "stream",
     "text": [
      "(interactomeseq) "
     ]
    },
    {
     "ename": "",
     "evalue": "1",
     "output_type": "error",
     "traceback": []
    }
   ],
   "source": [
    "mkdir -p InteractomeSeqCLIEukaryotic"
   ]
  },
  {
   "cell_type": "code",
   "execution_count": 28,
   "metadata": {},
   "outputs": [
    {
     "name": "stdout",
     "output_type": "stream",
     "text": [
      "(interactomeseq) "
     ]
    },
    {
     "ename": "",
     "evalue": "1",
     "output_type": "error",
     "traceback": []
    }
   ],
   "source": [
    "cd InteractomeSeqCLIEukaryotic"
   ]
  },
  {
   "cell_type": "code",
   "execution_count": 29,
   "metadata": {},
   "outputs": [
    {
     "name": "stdout",
     "output_type": "stream",
     "text": [
      "(interactomeseq) "
     ]
    },
    {
     "ename": "",
     "evalue": "1",
     "output_type": "error",
     "traceback": []
    }
   ],
   "source": [
    "WorkingDir=$(pwd)"
   ]
  },
  {
   "cell_type": "code",
   "execution_count": 30,
   "metadata": {},
   "outputs": [
    {
     "name": "stdout",
     "output_type": "stream",
     "text": [
      "(interactomeseq) "
     ]
    },
    {
     "ename": "",
     "evalue": "1",
     "output_type": "error",
     "traceback": []
    }
   ],
   "source": [
    "processor=10"
   ]
  },
  {
   "cell_type": "code",
   "execution_count": 31,
   "metadata": {},
   "outputs": [
    {
     "name": "stdout",
     "output_type": "stream",
     "text": [
      "/home/spuccio/InteractomSeqCLIEukaryotic/InteractomeSeqCLIEukaryotic\n",
      "(interactomeseq) "
     ]
    },
    {
     "ename": "",
     "evalue": "1",
     "output_type": "error",
     "traceback": []
    }
   ],
   "source": [
    "echo $WorkingDir"
   ]
  },
  {
   "cell_type": "code",
   "execution_count": 32,
   "metadata": {},
   "outputs": [
    {
     "name": "stdout",
     "output_type": "stream",
     "text": [
      "--2020-04-10 14:15:35--  http://interactomeseq.ba.itb.cnr.it/services/InteractomeSeq/Eukaryote.Uploading/Eukaryote_RnaBindProt.zip\n",
      "Risoluzione di interactomeseq.ba.itb.cnr.it (interactomeseq.ba.itb.cnr.it)... 150.145.82.8\n",
      "Connessione a interactomeseq.ba.itb.cnr.it (interactomeseq.ba.itb.cnr.it)|150.145.82.8|:80... connesso.\n",
      "Richiesta HTTP inviata, in attesa di risposta... 200 OK\n",
      "Lunghezza: non specificato [text/plain]\n",
      "Salvataggio in: \"/home/spuccio/InteractomSeqCLIEukaryotic/InteractomeSeqCLIEukaryotic/Eukaryote_RnaBindProt.zip\"\n",
      "\n",
      "Eukaryote_RnaBindPr     [               <=>  ] 105,76M  6,03MB/s    in 17s     \n",
      "\n",
      "2020-04-10 14:15:52 (6,36 MB/s) - \"/home/spuccio/InteractomSeqCLIEukaryotic/InteractomeSeqCLIEukaryotic/Eukaryote_RnaBindProt.zip\" salvato [110902666]\n",
      "\n",
      "\n",
      "real\t0m16,682s\n",
      "user\t0m0,092s\n",
      "sys\t0m0,428s\n",
      "(interactomeseq) "
     ]
    },
    {
     "ename": "",
     "evalue": "1",
     "output_type": "error",
     "traceback": []
    }
   ],
   "source": [
    "time wget http://interactomeseq.ba.itb.cnr.it/services/InteractomeSeq/Eukaryote.Uploading/Eukaryote_RnaBindProt.zip -P $WorkingDir"
   ]
  },
  {
   "cell_type": "code",
   "execution_count": 33,
   "metadata": {},
   "outputs": [
    {
     "name": "stdout",
     "output_type": "stream",
     "text": [
      "--2020-04-10 14:16:54--  http://interactomeseq.ba.itb.cnr.it/services/InteractomeSeq/Eukaryote.Uploading/Homo_sapiens.GRCh38.99.zip\n",
      "Risoluzione di interactomeseq.ba.itb.cnr.it (interactomeseq.ba.itb.cnr.it)... 150.145.82.8\n",
      "Connessione a interactomeseq.ba.itb.cnr.it (interactomeseq.ba.itb.cnr.it)|150.145.82.8|:80... connesso.\n",
      "Richiesta HTTP inviata, in attesa di risposta... 200 OK\n",
      "Lunghezza: non specificato [text/plain]\n",
      "Salvataggio in: \"/home/spuccio/InteractomSeqCLIEukaryotic/InteractomeSeqCLIEukaryotic/Homo_sapiens.GRCh38.99.zip\"\n",
      "\n",
      "Homo_sapiens.GRCh38     [     <=>            ]   1,90G  3,57MB/s    in 6m 46s  \n",
      "\n",
      "2020-04-10 14:23:40 (4,81 MB/s) - \"/home/spuccio/InteractomSeqCLIEukaryotic/InteractomeSeqCLIEukaryotic/Homo_sapiens.GRCh38.99.zip\" salvato [2043656730]\n",
      "\n",
      "\n",
      "real\t6m45,648s\n",
      "user\t0m1,576s\n",
      "sys\t0m10,396s\n",
      "(interactomeseq) "
     ]
    },
    {
     "ename": "",
     "evalue": "1",
     "output_type": "error",
     "traceback": []
    }
   ],
   "source": [
    "time wget interactomeseq.ba.itb.cnr.it/services/InteractomeSeq/Eukaryote.Uploading/Homo_sapiens.GRCh38.99.zip -P $WorkingDir"
   ]
  },
  {
   "cell_type": "code",
   "execution_count": 34,
   "metadata": {},
   "outputs": [
    {
     "name": "stdout",
     "output_type": "stream",
     "text": [
      "(interactomeseq) \u001b[0m\u001b[01;31mEukaryote_RnaBindProt.zip\u001b[0m  \u001b[01;31mHomo_sapiens.GRCh38.99.zip\u001b[0m\n",
      "(interactomeseq) "
     ]
    },
    {
     "ename": "",
     "evalue": "1",
     "output_type": "error",
     "traceback": []
    }
   ],
   "source": [
    "cd $WorkingDir\n",
    "ls "
   ]
  },
  {
   "cell_type": "code",
   "execution_count": 35,
   "metadata": {},
   "outputs": [
    {
     "name": "stdout",
     "output_type": "stream",
     "text": [
      "(interactomeseq) "
     ]
    },
    {
     "ename": "",
     "evalue": "1",
     "output_type": "error",
     "traceback": []
    }
   ],
   "source": [
    "mkdir -p rawdata"
   ]
  },
  {
   "cell_type": "code",
   "execution_count": 36,
   "metadata": {},
   "outputs": [
    {
     "name": "stdout",
     "output_type": "stream",
     "text": [
      "(interactomeseq) "
     ]
    },
    {
     "ename": "",
     "evalue": "1",
     "output_type": "error",
     "traceback": []
    }
   ],
   "source": [
    "mkdir -p references"
   ]
  },
  {
   "cell_type": "code",
   "execution_count": 37,
   "metadata": {},
   "outputs": [
    {
     "name": "stdout",
     "output_type": "stream",
     "text": [
      "Archive:  Eukaryote_RnaBindProt.zip\n",
      "  inflating: rawdata/Delta5Uchl1ssDNA.fastq.gz  \n",
      "  inflating: rawdata/Delta5Uchl1tRNA.fastq.gz  \n",
      "  inflating: rawdata/invSINEB2ssDNA.fastq.gz  \n",
      "  inflating: rawdata/invSINEB2tRNA.fastq.gz  \n",
      "  inflating: rawdata/NotSelected.fastq.gz  \n",
      "  inflating: rawdata/Eukaryote_RnaBindProt_Tutorial.pdf  \n",
      "\n",
      "real\t0m0,834s\n",
      "user\t0m0,632s\n",
      "sys\t0m0,080s\n",
      "(interactomeseq) "
     ]
    },
    {
     "ename": "",
     "evalue": "1",
     "output_type": "error",
     "traceback": []
    }
   ],
   "source": [
    "time unzip -d rawdata Eukaryote_RnaBindProt.zip"
   ]
  },
  {
   "cell_type": "code",
   "execution_count": 38,
   "metadata": {},
   "outputs": [
    {
     "name": "stdout",
     "output_type": "stream",
     "text": [
      "Archive:  Homo_sapiens.GRCh38.99.zip\n",
      "  inflating: references/Homo_sapiens.GRCh38.99.bed  \n",
      "  inflating: references/Homo_sapiens.GRCh38.99.cdna.all.fa  \n",
      "  inflating: references/Homo_sapiens.GRCh38.99.sizes.genome  \n",
      "  inflating: references/Homo_sapiens.GRCh38.99.chr.gtf  \n",
      "  inflating: references/Homo_sapiens.GRCh38.99.idx  \n",
      "  inflating: references/Homo_sapiens.GRCh38.99.sizes.transcriptome  \n",
      "\n",
      "real\t0m33,296s\n",
      "user\t0m30,424s\n",
      "sys\t0m2,856s\n",
      "(interactomeseq) "
     ]
    },
    {
     "ename": "",
     "evalue": "1",
     "output_type": "error",
     "traceback": []
    }
   ],
   "source": [
    "time unzip -d references Homo_sapiens.GRCh38.99.zip"
   ]
  },
  {
   "cell_type": "code",
   "execution_count": 39,
   "metadata": {},
   "outputs": [
    {
     "name": "stdout",
     "output_type": "stream",
     "text": [
      "(interactomeseq) "
     ]
    },
    {
     "ename": "",
     "evalue": "1",
     "output_type": "error",
     "traceback": []
    }
   ],
   "source": [
    "cd rawdata"
   ]
  },
  {
   "cell_type": "code",
   "execution_count": 40,
   "metadata": {},
   "outputs": [
    {
     "name": "stdout",
     "output_type": "stream",
     "text": [
      "\n",
      "real\t0m6,333s\n",
      "user\t0m5,548s\n",
      "sys\t0m0,776s\n",
      "(interactomeseq) "
     ]
    },
    {
     "ename": "",
     "evalue": "1",
     "output_type": "error",
     "traceback": []
    }
   ],
   "source": [
    "time gunzip *.fastq.gz "
   ]
  },
  {
   "cell_type": "code",
   "execution_count": 41,
   "metadata": {},
   "outputs": [
    {
     "name": "stdout",
     "output_type": "stream",
     "text": [
      "Delta5Uchl1ssDNA.fastq  Eukaryote_RnaBindProt_Tutorial.pdf  invSINEB2tRNA.fastq\n",
      "Delta5Uchl1tRNA.fastq   invSINEB2ssDNA.fastq                NotSelected.fastq\n",
      "(interactomeseq) "
     ]
    },
    {
     "ename": "",
     "evalue": "1",
     "output_type": "error",
     "traceback": []
    }
   ],
   "source": [
    "ls"
   ]
  },
  {
   "cell_type": "code",
   "execution_count": 42,
   "metadata": {},
   "outputs": [
    {
     "name": "stdout",
     "output_type": "stream",
     "text": [
      "/home/spuccio/InteractomSeqCLIEukaryotic/InteractomeSeqCLIEukaryotic/rawdata\n",
      "(interactomeseq) "
     ]
    },
    {
     "ename": "",
     "evalue": "1",
     "output_type": "error",
     "traceback": []
    }
   ],
   "source": [
    "pwd"
   ]
  },
  {
   "cell_type": "code",
   "execution_count": 43,
   "metadata": {},
   "outputs": [
    {
     "name": "stdout",
     "output_type": "stream",
     "text": [
      "(interactomeseq) "
     ]
    },
    {
     "ename": "",
     "evalue": "1",
     "output_type": "error",
     "traceback": []
    }
   ],
   "source": [
    "RawData=$(pwd)"
   ]
  },
  {
   "cell_type": "code",
   "execution_count": 44,
   "metadata": {},
   "outputs": [
    {
     "name": "stdout",
     "output_type": "stream",
     "text": [
      "(interactomeseq) "
     ]
    },
    {
     "ename": "",
     "evalue": "1",
     "output_type": "error",
     "traceback": []
    }
   ],
   "source": [
    "cd $WorkingDir"
   ]
  },
  {
   "cell_type": "code",
   "execution_count": 45,
   "metadata": {},
   "outputs": [
    {
     "name": "stdout",
     "output_type": "stream",
     "text": [
      "(interactomeseq) "
     ]
    },
    {
     "ename": "",
     "evalue": "1",
     "output_type": "error",
     "traceback": []
    }
   ],
   "source": [
    "cd references"
   ]
  },
  {
   "cell_type": "code",
   "execution_count": 46,
   "metadata": {},
   "outputs": [
    {
     "name": "stdout",
     "output_type": "stream",
     "text": [
      "(interactomeseq) "
     ]
    },
    {
     "ename": "",
     "evalue": "1",
     "output_type": "error",
     "traceback": []
    }
   ],
   "source": [
    "Reference=$(pwd)"
   ]
  },
  {
   "cell_type": "markdown",
   "metadata": {},
   "source": [
    "#### Now we are ready to start the analysis with InteractomeSeqCLI"
   ]
  },
  {
   "cell_type": "code",
   "execution_count": 47,
   "metadata": {},
   "outputs": [
    {
     "name": "stdout",
     "output_type": "stream",
     "text": [
      "(interactomeseq) "
     ]
    },
    {
     "ename": "",
     "evalue": "1",
     "output_type": "error",
     "traceback": []
    }
   ],
   "source": [
    "cd $WorkingDir"
   ]
  },
  {
   "cell_type": "code",
   "execution_count": 48,
   "metadata": {},
   "outputs": [
    {
     "name": "stdout",
     "output_type": "stream",
     "text": [
      "Cloning into 'InteractomeSeq'...\n",
      "remote: Enumerating objects: 61, done.\u001b[K\n",
      "remote: Counting objects: 100% (61/61), done.\u001b[K\n",
      "remote: Compressing objects: 100% (48/48), done.\u001b[K\n",
      "remote: Total 608 (delta 24), reused 41 (delta 13), pack-reused 547\u001b[K\n",
      "Ricezione degli oggetti: 100% (608/608), 304.66 KiB | 0 bytes/s, done.\n",
      "Risoluzione dei delta: 100% (434/434), done.\n",
      "(interactomeseq) "
     ]
    },
    {
     "ename": "",
     "evalue": "1",
     "output_type": "error",
     "traceback": []
    }
   ],
   "source": [
    "git clone https://github.com/sinnamone/InteractomeSeq"
   ]
  },
  {
   "cell_type": "code",
   "execution_count": 49,
   "metadata": {},
   "outputs": [
    {
     "name": "stdout",
     "output_type": "stream",
     "text": [
      "(interactomeseq) "
     ]
    },
    {
     "ename": "",
     "evalue": "1",
     "output_type": "error",
     "traceback": []
    }
   ],
   "source": [
    "samtools faidx  \"$Reference\"/Homo_sapiens.GRCh38.99.cdna.all.fa"
   ]
  },
  {
   "cell_type": "markdown",
   "metadata": {},
   "source": [
    "### 2) Mapping reads against reference Homo Sapiens genome"
   ]
  },
  {
   "cell_type": "code",
   "execution_count": 50,
   "metadata": {},
   "outputs": [
    {
     "name": "stdout",
     "output_type": "stream",
     "text": [
      "(interactomeseq) "
     ]
    },
    {
     "ename": "",
     "evalue": "1",
     "output_type": "error",
     "traceback": []
    }
   ],
   "source": [
    "cd \"$WorkingDir\""
   ]
  },
  {
   "cell_type": "code",
   "execution_count": 51,
   "metadata": {},
   "outputs": [
    {
     "name": "stdout",
     "output_type": "stream",
     "text": [
      "\u001b[0m\u001b[01;31mEukaryote_RnaBindProt.zip\u001b[0m   \u001b[01;34mInteractomeSeq\u001b[0m  \u001b[01;34mreferences\u001b[0m\n",
      "\u001b[01;31mHomo_sapiens.GRCh38.99.zip\u001b[0m  \u001b[01;34mrawdata\u001b[0m\n",
      "(interactomeseq) "
     ]
    },
    {
     "ename": "",
     "evalue": "1",
     "output_type": "error",
     "traceback": []
    }
   ],
   "source": [
    "ls "
   ]
  },
  {
   "cell_type": "code",
   "execution_count": 52,
   "metadata": {},
   "outputs": [
    {
     "name": "stdout",
     "output_type": "stream",
     "text": [
      "(interactomeseq) "
     ]
    },
    {
     "ename": "",
     "evalue": "1",
     "output_type": "error",
     "traceback": []
    }
   ],
   "source": [
    "mkdir -p output"
   ]
  },
  {
   "cell_type": "code",
   "execution_count": 53,
   "metadata": {},
   "outputs": [
    {
     "name": "stdout",
     "output_type": "stream",
     "text": [
      "(interactomeseq) "
     ]
    },
    {
     "ename": "",
     "evalue": "1",
     "output_type": "error",
     "traceback": []
    }
   ],
   "source": [
    "cd \"$WorkingDir\"/InteractomeSeq/PyinteraseqEukaryotic"
   ]
  },
  {
   "cell_type": "code",
   "execution_count": 54,
   "metadata": {},
   "outputs": [
    {
     "name": "stdout",
     "output_type": "stream",
     "text": [
      "\n",
      "real\t11m51,442s\n",
      "user\t10m34,396s\n",
      "sys\t1m15,256s\n",
      "(interactomeseq) "
     ]
    },
    {
     "ename": "",
     "evalue": "1",
     "output_type": "error",
     "traceback": []
    }
   ],
   "source": [
    "time for i in NotSelected invSINEB2tRNA invSINEB2ssDNA Delta5Uchl1tRNA  Delta5Uchl1ssDNA; do python pyinteraseq_main_mapping.py --readforward \"$RawData\"/\"$i\".fastq --outputfolder  \"$WorkingDir\"/output/ --primer5forward GCAGCAAGCGGCGCGCATGC --primer3forward GCGCTTCGTCAT --fastasequence  \"$Reference\"/Homo_sapiens.GRCh38.99.cdna.all.fa --thread $processor --outputid \"$i\" --kallistoindex \"$Reference\"/Homo_sapiens.GRCh38.99.idx --genomesize \"$Reference\"/Homo_sapiens.GRCh38.99.sizes.genome --transcriptsize \"$Reference\"/Homo_sapiens.GRCh38.99.sizes.transcriptome --gtf \"$Reference\"/Homo_sapiens.GRCh38.99.chr.gtf ; done"
   ]
  },
  {
   "cell_type": "code",
   "execution_count": 55,
   "metadata": {},
   "outputs": [
    {
     "name": "stdout",
     "output_type": "stream",
     "text": [
      "/home/spuccio/InteractomSeqCLIEukaryotic/InteractomeSeqCLIEukaryotic/output/Delta5Uchl1ssDNA_mapping.bam\n",
      "/home/spuccio/InteractomSeqCLIEukaryotic/InteractomeSeqCLIEukaryotic/output/Delta5Uchl1ssDNA_mapping.bam.bai\n",
      "/home/spuccio/InteractomSeqCLIEukaryotic/InteractomeSeqCLIEukaryotic/output/Delta5Uchl1ssDNA_mapping.log\n",
      "/home/spuccio/InteractomSeqCLIEukaryotic/InteractomeSeqCLIEukaryotic/output/Delta5Uchl1tRNA_mapping.bam\n",
      "/home/spuccio/InteractomSeqCLIEukaryotic/InteractomeSeqCLIEukaryotic/output/Delta5Uchl1tRNA_mapping.bam.bai\n",
      "/home/spuccio/InteractomSeqCLIEukaryotic/InteractomeSeqCLIEukaryotic/output/Delta5Uchl1tRNA_mapping.log\n",
      "/home/spuccio/InteractomSeqCLIEukaryotic/InteractomeSeqCLIEukaryotic/output/invSINEB2ssDNA_mapping.bam\n",
      "/home/spuccio/InteractomSeqCLIEukaryotic/InteractomeSeqCLIEukaryotic/output/invSINEB2ssDNA_mapping.bam.bai\n",
      "/home/spuccio/InteractomSeqCLIEukaryotic/InteractomeSeqCLIEukaryotic/output/invSINEB2ssDNA_mapping.log\n",
      "/home/spuccio/InteractomSeqCLIEukaryotic/InteractomeSeqCLIEukaryotic/output/invSINEB2tRNA_mapping.bam\n",
      "/home/spuccio/InteractomSeqCLIEukaryotic/InteractomeSeqCLIEukaryotic/output/invSINEB2tRNA_mapping.bam.bai\n",
      "/home/spuccio/InteractomSeqCLIEukaryotic/InteractomeSeqCLIEukaryotic/output/invSINEB2tRNA_mapping.log\n",
      "/home/spuccio/InteractomSeqCLIEukaryotic/InteractomeSeqCLIEukaryotic/output/NotSelected_mapping.bam\n",
      "/home/spuccio/InteractomSeqCLIEukaryotic/InteractomeSeqCLIEukaryotic/output/NotSelected_mapping.bam.bai\n",
      "/home/spuccio/InteractomSeqCLIEukaryotic/InteractomeSeqCLIEukaryotic/output/NotSelected_mapping.log\n",
      "(interactomeseq) "
     ]
    },
    {
     "ename": "",
     "evalue": "1",
     "output_type": "error",
     "traceback": []
    }
   ],
   "source": [
    "ls \"$WorkingDir\"/output/*_mapping.*"
   ]
  },
  {
   "cell_type": "markdown",
   "metadata": {},
   "source": [
    "### 3) Domain Definition"
   ]
  },
  {
   "cell_type": "code",
   "execution_count": 56,
   "metadata": {},
   "outputs": [
    {
     "name": "stdout",
     "output_type": "stream",
     "text": [
      "sys:1: DtypeWarning: Columns (0) have mixed types. Specify dtype option on import or set low_memory=False.\n",
      "sys:1: DtypeWarning: Columns (0) have mixed types. Specify dtype option on import or set low_memory=False.\n",
      "sys:1: DtypeWarning: Columns (0) have mixed types. Specify dtype option on import or set low_memory=False.\n",
      "sys:1: DtypeWarning: Columns (0) have mixed types. Specify dtype option on import or set low_memory=False.\n",
      "sys:1: DtypeWarning: Columns (0) have mixed types. Specify dtype option on import or set low_memory=False.\n",
      "\n",
      "real\t13m30,204s\n",
      "user\t12m30,980s\n",
      "sys\t0m52,764s\n",
      "(interactomeseq) "
     ]
    },
    {
     "ename": "",
     "evalue": "1",
     "output_type": "error",
     "traceback": []
    }
   ],
   "source": [
    "time for i in Delta5Uchl1ssDNA Delta5Uchl1tRNA invSINEB2ssDNA invSINEB2tRNA NotSelected ; do python pyinteraseq_main_domain_definition.py --mappingoutput \"$WorkingDir\"/output/\"$i\"_mapping.bam --outputfolder \"$WorkingDir\"/output/ --outputid \"$i\" --fastasequence \"$Reference\"/Homo_sapiens.GRCh38.99.cdna.all.fa --annotation \"$Reference\"/Homo_sapiens.GRCh38.99.bed --threshold 30 --genome \"$Reference\"/Homo_sapiens.GRCh38.99.sizes.transcriptome ; done "
   ]
  },
  {
   "cell_type": "code",
   "execution_count": 57,
   "metadata": {},
   "outputs": [
    {
     "name": "stdout",
     "output_type": "stream",
     "text": [
      "/home/spuccio/InteractomSeqCLIEukaryotic/InteractomeSeqCLIEukaryotic/output/Delta5Uchl1ssDNA_definition.txt\n",
      "/home/spuccio/InteractomSeqCLIEukaryotic/InteractomeSeqCLIEukaryotic/output/Delta5Uchl1ssDNA_domain_definition.log\n",
      "/home/spuccio/InteractomSeqCLIEukaryotic/InteractomeSeqCLIEukaryotic/output/Delta5Uchl1tRNA_definition.txt\n",
      "/home/spuccio/InteractomSeqCLIEukaryotic/InteractomeSeqCLIEukaryotic/output/Delta5Uchl1tRNA_domain_definition.log\n",
      "/home/spuccio/InteractomSeqCLIEukaryotic/InteractomeSeqCLIEukaryotic/output/invSINEB2ssDNA_definition.txt\n",
      "/home/spuccio/InteractomSeqCLIEukaryotic/InteractomeSeqCLIEukaryotic/output/invSINEB2ssDNA_domain_definition.log\n",
      "/home/spuccio/InteractomSeqCLIEukaryotic/InteractomeSeqCLIEukaryotic/output/invSINEB2tRNA_definition.txt\n",
      "/home/spuccio/InteractomSeqCLIEukaryotic/InteractomeSeqCLIEukaryotic/output/invSINEB2tRNA_domain_definition.log\n",
      "/home/spuccio/InteractomSeqCLIEukaryotic/InteractomeSeqCLIEukaryotic/output/NotSelected_definition.txt\n",
      "/home/spuccio/InteractomSeqCLIEukaryotic/InteractomeSeqCLIEukaryotic/output/NotSelected_domain_definition.log\n",
      "(interactomeseq) "
     ]
    },
    {
     "ename": "",
     "evalue": "1",
     "output_type": "error",
     "traceback": []
    }
   ],
   "source": [
    "ls \"$WorkingDir\"/output/*_definition.*"
   ]
  },
  {
   "cell_type": "markdown",
   "metadata": {},
   "source": [
    "# Domain Enrichment"
   ]
  },
  {
   "cell_type": "code",
   "execution_count": 58,
   "metadata": {},
   "outputs": [
    {
     "name": "stdout",
     "output_type": "stream",
     "text": [
      "\n",
      "real\t0m2,024s\n",
      "user\t0m1,804s\n",
      "sys\t0m0,472s\n",
      "(interactomeseq) "
     ]
    },
    {
     "ename": "",
     "evalue": "1",
     "output_type": "error",
     "traceback": []
    }
   ],
   "source": [
    "time python pyinteraseq_enrichment_eukaryotic.py --outputcontrol \"$WorkingDir\"/output/invSINEB2ssDNA_definition.txt  --outputarget \"$WorkingDir\"/output/invSINEB2tRNA_definition.txt --outputfolder \"$WorkingDir\"/output/ --outputid invSINEB2tRNAvsinvSINEB2ssDNA "
   ]
  },
  {
   "cell_type": "code",
   "execution_count": 59,
   "metadata": {},
   "outputs": [
    {
     "name": "stdout",
     "output_type": "stream",
     "text": [
      "\n",
      "real\t0m2,418s\n",
      "user\t0m2,268s\n",
      "sys\t0m0,620s\n",
      "(interactomeseq) "
     ]
    },
    {
     "ename": "",
     "evalue": "1",
     "output_type": "error",
     "traceback": []
    }
   ],
   "source": [
    "time python pyinteraseq_enrichment_eukaryotic.py --outputcontrol \"$WorkingDir\"/output/Delta5Uchl1ssDNA_definition.txt  --outputarget \"$WorkingDir\"/output/Delta5Uchl1tRNA_definition.txt --outputfolder \"$WorkingDir\"/output/ --outputid Delta5Uchl1tRNAvsDelta5Uchl1ssDNA "
   ]
  },
  {
   "cell_type": "code",
   "execution_count": 60,
   "metadata": {},
   "outputs": [
    {
     "name": "stdout",
     "output_type": "stream",
     "text": [
      "/home/spuccio/InteractomSeqCLIEukaryotic/InteractomeSeqCLIEukaryotic/output/Delta5Uchl1tRNAvsDelta5Uchl1ssDNA_common_intervals.txt\n",
      "/home/spuccio/InteractomSeqCLIEukaryotic/InteractomeSeqCLIEukaryotic/output/Delta5Uchl1tRNAvsDelta5Uchl1ssDNA_unique_intervals.txt\n",
      "/home/spuccio/InteractomSeqCLIEukaryotic/InteractomeSeqCLIEukaryotic/output/invSINEB2tRNAvsinvSINEB2ssDNA_common_intervals.txt\n",
      "/home/spuccio/InteractomSeqCLIEukaryotic/InteractomeSeqCLIEukaryotic/output/invSINEB2tRNAvsinvSINEB2ssDNA_unique_intervals.txt\n",
      "(interactomeseq) /home/spuccio/InteractomSeqCLIEukaryotic/InteractomeSeqCLIEukaryotic/output/Delta5Uchl1tRNAvsDelta5Uchl1ssDNA_enrichment.log\n",
      "/home/spuccio/InteractomSeqCLIEukaryotic/InteractomeSeqCLIEukaryotic/output/invSINEB2tRNAvsinvSINEB2ssDNA_enrichment.log\n",
      "(interactomeseq) "
     ]
    },
    {
     "ename": "",
     "evalue": "1",
     "output_type": "error",
     "traceback": []
    }
   ],
   "source": [
    "ls \"$WorkingDir\"/output/*_intervals.*\n",
    "ls \"$WorkingDir\"/output/*_enrichment.log"
   ]
  },
  {
   "cell_type": "code",
   "execution_count": 61,
   "metadata": {},
   "outputs": [
    {
     "name": "stdout",
     "output_type": "stream",
     "text": [
      "Done\n",
      "(interactomeseq) "
     ]
    },
    {
     "ename": "",
     "evalue": "1",
     "output_type": "error",
     "traceback": []
    }
   ],
   "source": [
    "echo \"Done\""
   ]
  },
  {
   "cell_type": "code",
   "execution_count": null,
   "metadata": {},
   "outputs": [],
   "source": []
  }
 ],
 "metadata": {
  "kernelspec": {
   "display_name": "Bash",
   "language": "bash",
   "name": "bash"
  },
  "language_info": {
   "codemirror_mode": "shell",
   "file_extension": ".sh",
   "mimetype": "text/x-sh",
   "name": "bash"
  }
 },
 "nbformat": 4,
 "nbformat_minor": 2
}
